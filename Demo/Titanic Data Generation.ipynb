{
 "cells": [
  {
   "cell_type": "code",
   "execution_count": 26,
   "metadata": {},
   "outputs": [],
   "source": [
    "from sklearn.datasets import fetch_openml\n",
    "from sklearn.ensemble import RandomForestClassifier\n",
    "\n",
    "import matplotlib\n",
    "import pandas as pd\n",
    "import numpy as np\n",
    "import matplotlib.pyplot as plt"
   ]
  },
  {
   "cell_type": "code",
   "execution_count": 20,
   "metadata": {},
   "outputs": [],
   "source": [
    "X, y = fetch_openml(\"titanic\", version=1, as_frame=True, return_X_y=True)\n",
    "X.drop(['boat', 'body', 'home.dest','name','ticket','cabin','embarked','fare'], axis=1, inplace=True)\n",
    "X['sex'] = X['sex'].map({'male':1,'female':0})\n",
    "X = X.fillna(X.median())\n",
    "y = y.astype(int)\n",
    "X_mod = X.copy()"
   ]
  },
  {
   "cell_type": "code",
   "execution_count": null,
   "metadata": {},
   "outputs": [],
   "source": [
    "X_mod = X.copy()\n",
    "howell = pd.read_csv('https://raw.githubusercontent.com/rmcelreath/rethinking/master/data/Howell1.csv',sep=';')\n",
    "howell\n",
    "#https://tspace.library.utoronto.ca/handle/1807/10395\n",
    "\n",
    "height1 = []\n",
    "weight1 = []\n",
    "for i,row in X.iterrows():\n",
    "    age = row['age']\n",
    "    sex = row['sex']\n",
    "    how = howell[howell['male'] == sex]\n",
    "    how['dist'] = np.abs(how['age']-age)\n",
    "    how = how.sort_values('dist').head(10).sample(1)\n",
    "    height = how['height']+ np.random.normal(0,1)\n",
    "    weight = how['height']+np.random.normal(0,1)\n",
    "    height1.append(height.values[0])\n",
    "    weight1.append(weight.values[0])\n",
    "    \n",
    "X_mod['height'] = height1\n",
    "X_mod['weight'] = weight1"
   ]
  },
  {
   "cell_type": "code",
   "execution_count": 22,
   "metadata": {},
   "outputs": [],
   "source": [
    "femur = []\n",
    "tibia = []\n",
    "humerus = []\n",
    "radius = []\n",
    "hair_length = []\n",
    "hair_diameter = []\n",
    "shoe_size = []\n",
    "\n",
    "\n",
    "for i,row in X_mod.iterrows():\n",
    "    if row['sex'] == 1:\n",
    "        femur.append( (row['height']-81.306)/1.88 )\n",
    "        tibia.append((row['height']-78.664)/2.376  )\n",
    "        humerus.append((row['height']-98.341)/2.270)\n",
    "        radius.append((row['height']-88.881)/3.449)\n",
    "        hair_length.append(np.random.normal(2.35,1.29))\n",
    "        hair_diameter.append(np.random.normal(31.29,5.75))\n",
    "        shoe_size.append(np.random.normal(273,10))\n",
    "        \n",
    "    else:\n",
    "        femur.append( (row['height']-72.84)/1.945 )\n",
    "        tibia.append((row['height']-74.774)/2.352)\n",
    "        humerus.append((row['height']-56.287)/3.448)\n",
    "        radius.append((row['height']-68.238)/4.248)\n",
    "        hair_length.append(np.random.normal(3,2.29))\n",
    "        hair_diameter.append(np.random.normal(34.4,6.8))\n",
    "        shoe_size.append(np.random.normal(243,12))\n",
    "\n",
    "X_mod['femur'] = femur\n",
    "X_mod['tibia'] = tibia\n",
    "#X_mod['humerus'] = humerus\n",
    "#X_mod['radius'] = radius\n",
    "\n",
    "#X_mod['femur (L)'] = femur\n",
    "#X_mod['tibia (L)'] = tibia\n",
    "#X_mod['humerus (L)'] = humerus\n",
    "#X_mod['radius (L)'] = radius\n",
    "#X_mod['hair (l)'] = hair_length\n",
    "#X_mod['hair (w)'] = hair_diameter\n",
    "#X_mod['right foot length'] = shoe_size\n",
    "#X_mod['left foot length'] = shoe_size#"
   ]
  },
  {
   "cell_type": "code",
   "execution_count": 27,
   "metadata": {},
   "outputs": [
    {
     "data": {
      "text/plain": [
       "<BarContainer object of 9 artists>"
      ]
     },
     "execution_count": 27,
     "metadata": {},
     "output_type": "execute_result"
    },
    {
     "data": {
      "image/png": "[encoded data removed]",
      "text/plain": [
       "<Figure size 432x288 with 1 Axes>"
      ]
     },
     "metadata": {
      "needs_background": "light"
     },
     "output_type": "display_data"
    }
   ],
   "source": [
    "rf1 = RandomForestClassifier().fit(X_mod,y)\n",
    "rf = RandomForestClassifier().fit(X,y)\n",
    "imp1= pd.DataFrame(np.column_stack((X_mod.columns,rf1.feature_importances_)),columns = ['Feature','Importance Score'])\n",
    "imp1 = imp1.sort_values('Importance Score',ascending = True)\n",
    "plt.barh(imp1['Feature'], imp1['Importance Score'],color = 'black')\n",
    "\n",
    "\n"
   ]
  }
 ],
 "metadata": {
  "kernelspec": {
   "display_name": "Python 3",
   "language": "python",
   "name": "python3"
  },
  "language_info": {
   "codemirror_mode": {
    "name": "ipython",
    "version": 3
   },
   "file_extension": ".py",
   "mimetype": "text/x-python",
   "name": "python",
   "nbconvert_exporter": "python",
   "pygments_lexer": "ipython3",
   "version": "3.8.8"
  }
 },
 "nbformat": 4,
 "nbformat_minor": 4
}
